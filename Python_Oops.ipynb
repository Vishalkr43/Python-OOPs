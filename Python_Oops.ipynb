{
  "nbformat": 4,
  "nbformat_minor": 0,
  "metadata": {
    "colab": {
      "provenance": []
    },
    "kernelspec": {
      "name": "python3",
      "display_name": "Python 3"
    },
    "language_info": {
      "name": "python"
    }
  },
  "cells": [
    {
      "cell_type": "markdown",
      "source": [
        "**Python Oops Theory Questions Answer**"
      ],
      "metadata": {
        "id": "Y8oHC2OtpsJ-"
      }
    },
    {
      "cell_type": "markdown",
      "source": [
        "1. What is Object-Oriented Programming (OOP)?"
      ],
      "metadata": {
        "id": "qMQerQm9p3gS"
      }
    },
    {
      "cell_type": "markdown",
      "source": [
        "OOP is a programming paradigm based on the concept of objects, which can contain data (attributes) and code (methods). It promotes modularity, reusability, and encapsulation.\n"
      ],
      "metadata": {
        "id": "RA0jrBuLqKzn"
      }
    },
    {
      "cell_type": "markdown",
      "source": [
        "2. What is a class in OOP?"
      ],
      "metadata": {
        "id": "Ea5rg5XyqNGx"
      }
    },
    {
      "cell_type": "markdown",
      "source": [
        "A class is a blueprint for creating objects. It defines the attributes (data) and methods (functions) that its objects will have.\n"
      ],
      "metadata": {
        "id": "G0Mo431_qPlo"
      }
    },
    {
      "cell_type": "markdown",
      "source": [
        "3. What is an object in OOP?"
      ],
      "metadata": {
        "id": "9z-14CACqTiZ"
      }
    },
    {
      "cell_type": "markdown",
      "source": [
        "An object is an instance of a class. It is a real-world entity that has state (attributes) and behavior (methods)."
      ],
      "metadata": {
        "id": "bb-DE1EaqWHB"
      }
    },
    {
      "cell_type": "markdown",
      "source": [
        "4. What is the difference between abstraction and encapsulation?\n"
      ],
      "metadata": {
        "id": "xMhw6xkFqYQ4"
      }
    },
    {
      "cell_type": "markdown",
      "source": [
        "Abstraction hides complex implementation details and shows only essential features.\n",
        "\n",
        "Encapsulation bundles data and methods that operate on the data together and restricts access to some of the object's components."
      ],
      "metadata": {
        "id": "G92__2Jlqd28"
      }
    },
    {
      "cell_type": "markdown",
      "source": [
        "5. What are dunder methods in Python?"
      ],
      "metadata": {
        "id": "v5BCrs33qjIg"
      }
    },
    {
      "cell_type": "markdown",
      "source": [
        "Dunder (double underscore) methods are special methods in Python, like _init, __str, and __repr_, which are used to define object behavior. They are also known as magic methods."
      ],
      "metadata": {
        "id": "HargDFwKqnK9"
      }
    },
    {
      "cell_type": "markdown",
      "source": [
        "6. Explain the concept of inheritance in OOP."
      ],
      "metadata": {
        "id": "VgpcfaGsqqLQ"
      }
    },
    {
      "cell_type": "markdown",
      "source": [
        "Inheritance allows a class (child) to inherit attributes and methods from another class (parent). It enables code reuse and hierarchy representation.\n"
      ],
      "metadata": {
        "id": "mh55C7XFqsvv"
      }
    },
    {
      "cell_type": "markdown",
      "source": [
        "7. What is polymorphism in OOP?"
      ],
      "metadata": {
        "id": "nwztqiecqurC"
      }
    },
    {
      "cell_type": "markdown",
      "source": [
        "Polymorphism allows objects of different classes to be treated as objects of a common superclass. It enables a single interface to represent different underlying forms."
      ],
      "metadata": {
        "id": "--sFucV4qxkf"
      }
    },
    {
      "cell_type": "markdown",
      "source": [
        "8. How is encapsulation achieved in Python?\n"
      ],
      "metadata": {
        "id": "0H6wCXyHqzgS"
      }
    },
    {
      "cell_type": "markdown",
      "source": [
        "Encapsulation is achieved using access modifiers like:\n",
        "\n",
        "Public (attribute)\n",
        "\n",
        "Protected (_attribute)\n",
        "\n",
        "Private (__attribute)"
      ],
      "metadata": {
        "id": "-_UO6QXFq2Pp"
      }
    },
    {
      "cell_type": "markdown",
      "source": [
        "9. What is a constructor in Python?"
      ],
      "metadata": {
        "id": "N3DwcxOSrA1Y"
      }
    },
    {
      "cell_type": "markdown",
      "source": [
        "A constructor is a special method (_init_) used to initialize the attributes of an object when it is created.\n"
      ],
      "metadata": {
        "id": "AHrmgvpyrG2_"
      }
    },
    {
      "cell_type": "markdown",
      "source": [
        "10. What are class and static methods in Python?"
      ],
      "metadata": {
        "id": "ZBDJvXl0rIuH"
      }
    },
    {
      "cell_type": "markdown",
      "source": [
        "Class methods: Defined with @classmethod, they take cls as the first parameter and operate on the class.\n",
        "\n",
        "Static methods: Defined with @staticmethod, they don’t take self or cls and don’t operate on instance or class attributes."
      ],
      "metadata": {
        "id": "TWRPY3W4rLow"
      }
    },
    {
      "cell_type": "markdown",
      "source": [
        "11. What is method overloading in Python?"
      ],
      "metadata": {
        "id": "57a0lATlrOc_"
      }
    },
    {
      "cell_type": "markdown",
      "source": [
        "Method overloading refers to defining multiple methods with the same name but different parameters. Python doesn't support traditional method overloading but allows default arguments to achieve similar functionality."
      ],
      "metadata": {
        "id": "9ZfrslMSrRTn"
      }
    },
    {
      "cell_type": "markdown",
      "source": [
        "12. What is method overriding in OOP?"
      ],
      "metadata": {
        "id": "M1F1eF8qrTev"
      }
    },
    {
      "cell_type": "markdown",
      "source": [
        "Method overriding allows a child class to provide a specific implementation of a method already defined in the parent class."
      ],
      "metadata": {
        "id": "APLqD79TrV-q"
      }
    },
    {
      "cell_type": "markdown",
      "source": [
        "13. What is a property decorator in Python?"
      ],
      "metadata": {
        "id": "b3ldaRY1rX4K"
      }
    },
    {
      "cell_type": "markdown",
      "source": [
        "A property decorator (@property) is used to define getter, setter, and deleter methods to manage access to instance attributes.\n"
      ],
      "metadata": {
        "id": "n4KnVkbyrayI"
      }
    },
    {
      "cell_type": "markdown",
      "source": [
        "14. Why is polymorphism important in OOP?"
      ],
      "metadata": {
        "id": "BO-h9Ur4rdIm"
      }
    },
    {
      "cell_type": "markdown",
      "source": [
        "Polymorphism enhances flexibility and code reusability, allowing the same interface to handle different data types or objects."
      ],
      "metadata": {
        "id": "DUgEZYpArfaw"
      }
    },
    {
      "cell_type": "markdown",
      "source": [
        "15. What is an abstract class in Python?"
      ],
      "metadata": {
        "id": "9O7aW4UxriPx"
      }
    },
    {
      "cell_type": "markdown",
      "source": [
        "An abstract class is a class that cannot be instantiated and often contains abstract methods that must be implemented by its subclasses. It is defined using the abc module."
      ],
      "metadata": {
        "id": "JLgtBrwLrk1D"
      }
    },
    {
      "cell_type": "markdown",
      "source": [
        "16. What are the advantages of OOP?"
      ],
      "metadata": {
        "id": "2W_G8ELLroIn"
      }
    },
    {
      "cell_type": "markdown",
      "source": [
        "Advantages of OOP are:\n",
        "\n",
        "Modularity\n",
        "\n",
        "Code reuse\n",
        "\n",
        "Scalability\n",
        "\n",
        "Abstraction and encapsulation\n",
        "\n",
        "Flexibility through polymorphism.\n"
      ],
      "metadata": {
        "id": "owraNvxxrquy"
      }
    },
    {
      "cell_type": "markdown",
      "source": [
        "17. What is the difference between a class variable and an instance variable?"
      ],
      "metadata": {
        "id": "KkvEhJ6yr1xY"
      }
    },
    {
      "cell_type": "markdown",
      "source": [
        "Class variable: Shared among all instances of a class.\n",
        "\n",
        "Instance variable: Unique to each object of the class."
      ],
      "metadata": {
        "id": "M8e9rzPjr6Yq"
      }
    },
    {
      "cell_type": "markdown",
      "source": [
        "18. What is multiple inheritance in Python?"
      ],
      "metadata": {
        "id": "ArV13F2gr8ev"
      }
    },
    {
      "cell_type": "markdown",
      "source": [
        "Multiple inheritance allows a class to inherit attributes and methods from more than one parent class."
      ],
      "metadata": {
        "id": "Oj4ww2jWr-_u"
      }
    },
    {
      "cell_type": "markdown",
      "source": [
        "19. Explain the purpose of _str_ and _repr_ methods in Python."
      ],
      "metadata": {
        "id": "svFBTgpBsBM4"
      }
    },
    {
      "cell_type": "markdown",
      "source": [
        "_str_: Provides a user-friendly string representation of an object.\n",
        "\n",
        "_repr_: Provides an unambiguous string representation for debugging."
      ],
      "metadata": {
        "id": "SDlqo7UhsD58"
      }
    },
    {
      "cell_type": "markdown",
      "source": [
        "20. What is the significance of the super() function in Python?"
      ],
      "metadata": {
        "id": "oRN1xMoxsGNe"
      }
    },
    {
      "cell_type": "markdown",
      "source": [
        "The super() function allows access to the methods of a parent class, enabling method overriding and cooperative multiple inheritance."
      ],
      "metadata": {
        "id": "06Wxk2ddsJp3"
      }
    },
    {
      "cell_type": "markdown",
      "source": [
        "21. What is the significance of the _del_ method in Python?"
      ],
      "metadata": {
        "id": "GAMmGw2QsL59"
      }
    },
    {
      "cell_type": "markdown",
      "source": [
        "The _del_ method is a destructor that is called when an object is deleted or goes out of scope, allowing cleanup of resources."
      ],
      "metadata": {
        "id": "TlrHndyisS1I"
      }
    },
    {
      "cell_type": "markdown",
      "source": [
        "22. What is the difference between @staticmethod and @classmethod in Python?"
      ],
      "metadata": {
        "id": "nvvQwE3XsVt3"
      }
    },
    {
      "cell_type": "markdown",
      "source": [
        "@staticmethod: Doesn't take self or cls and is independent of class or instance context.\n",
        "\n",
        "@classmethod: Takes cls as the first parameter and operates on the class.\n"
      ],
      "metadata": {
        "id": "wX2KkqrCsYrX"
      }
    },
    {
      "cell_type": "markdown",
      "source": [
        "23. How does polymorphism work in Python with inheritance?"
      ],
      "metadata": {
        "id": "YD0ZFzBMscMe"
      }
    },
    {
      "cell_type": "markdown",
      "source": [
        "Polymorphism in Python allows child classes to define methods with the same name as in the parent class, enabling method overriding."
      ],
      "metadata": {
        "id": "0jEqK1UrsfAu"
      }
    },
    {
      "cell_type": "markdown",
      "source": [
        "24. What is method chaining in Python OOP?"
      ],
      "metadata": {
        "id": "8JXXuhf7shNu"
      }
    },
    {
      "cell_type": "markdown",
      "source": [
        "Method chaining is a technique where multiple methods are called on the same object in a single line, returning the object itself."
      ],
      "metadata": {
        "id": "9kz0TtWpsjkG"
      }
    },
    {
      "cell_type": "markdown",
      "source": [
        "25. What is the purpose of the _call_ method in Python?"
      ],
      "metadata": {
        "id": "VOmwzSmlslox"
      }
    },
    {
      "cell_type": "markdown",
      "source": [
        "The _call_ method allows an object to be called like a function. It is used to create callable objects."
      ],
      "metadata": {
        "id": "CMG2rG_DsoUn"
      }
    },
    {
      "cell_type": "markdown",
      "source": [
        "**Python Oops Practical Questions Answer**"
      ],
      "metadata": {
        "id": "yrSoQr_4sv0w"
      }
    },
    {
      "cell_type": "code",
      "source": [
        "#1. Create a parent class Animal and a child class Dog with an overridden method:"
      ],
      "metadata": {
        "id": "EGEb-vpRs3G5"
      },
      "execution_count": null,
      "outputs": []
    },
    {
      "cell_type": "code",
      "source": [
        "class Animal:\n",
        "    def speak(self):\n",
        "        print(\"This is a generic animal sound.\")\n",
        "\n",
        "class Dog(Animal):\n",
        "    def speak(self):\n",
        "        print(\"Bark!\")\n",
        ""
      ],
      "metadata": {
        "id": "vvFI5_L0tPiO"
      },
      "execution_count": 4,
      "outputs": []
    },
    {
      "cell_type": "code",
      "source": [
        "#Example\n",
        "animal = Animal()\n",
        "animal.speak()\n",
        "\n",
        "dog = Dog()\n",
        "dog.speak()"
      ],
      "metadata": {
        "colab": {
          "base_uri": "https://localhost:8080/"
        },
        "id": "v3KmkEnitjwX",
        "outputId": "ae472fce-977a-4c20-ca0f-bccef3ddd004"
      },
      "execution_count": 6,
      "outputs": [
        {
          "output_type": "stream",
          "name": "stdout",
          "text": [
            "This is a generic animal sound.\n",
            "Bark!\n"
          ]
        }
      ]
    },
    {
      "cell_type": "code",
      "source": [
        "#2. Create an abstract class Shape and derive Circle and Rectangle:"
      ],
      "metadata": {
        "id": "GIKKdhNLtr-R"
      },
      "execution_count": null,
      "outputs": []
    },
    {
      "cell_type": "code",
      "source": [
        "from abc import ABC, abstractmethod\n",
        "\n",
        "class Shape(ABC):\n",
        "    @abstractmethod\n",
        "    def area(self):\n",
        "        pass\n",
        "\n",
        "class Circle(Shape):\n",
        "    def _init_(self, radius):\n",
        "        self.radius = radius\n",
        "\n",
        "    def area(self):\n",
        "        return 3.14 * self.radius ** 2\n",
        "\n",
        "class Rectangle(Shape):\n",
        "    def _init_(self, length, width):\n",
        "        self.length = length\n",
        "        self.width = width\n",
        "\n",
        "    def area(self):\n",
        "        return self.length * self.width"
      ],
      "metadata": {
        "id": "gJUidVl6tv7Y"
      },
      "execution_count": 7,
      "outputs": []
    },
    {
      "cell_type": "code",
      "source": [
        "#3. Multi-level inheritance with Vehicle, Car, and ElectricCar:"
      ],
      "metadata": {
        "id": "ftIyg84uuS2d"
      },
      "execution_count": null,
      "outputs": []
    },
    {
      "cell_type": "code",
      "source": [
        "class Vehicle:\n",
        "    def _init_(self, type):\n",
        "        self.type = type\n",
        "\n",
        "class Car(Vehicle):\n",
        "    def _init_(self, type, model):\n",
        "        super()._init_(type)\n",
        "        self.model = model\n",
        "\n",
        "class ElectricCar(Car):\n",
        "    def _init_(self, type, model, battery):\n",
        "        super()._init_(type, model)\n",
        "        self.battery = battery"
      ],
      "metadata": {
        "id": "-XJ6U9PuugIm"
      },
      "execution_count": 22,
      "outputs": []
    },
    {
      "cell_type": "code",
      "source": [
        "#4. Encapsulation with BankAccount:"
      ],
      "metadata": {
        "id": "5WaZkRVZzuIu"
      },
      "execution_count": null,
      "outputs": []
    },
    {
      "cell_type": "code",
      "source": [
        "class BankAccount:\n",
        "    def _init_(self, balance=0):\n",
        "        self.__balance = balance\n",
        "\n",
        "    def deposit(self, amount):\n",
        "        self.__balance += amount\n",
        "\n",
        "    def withdraw(self, amount):\n",
        "        if amount > self.__balance:\n",
        "            print(\"Insufficient balance!\")\n",
        "        else:\n",
        "            self.__balance -= amount\n",
        "\n",
        "    def get_balance(self):\n",
        "        return self.__balance"
      ],
      "metadata": {
        "id": "j0gVmbXXzzGV"
      },
      "execution_count": 24,
      "outputs": []
    },
    {
      "cell_type": "code",
      "source": [
        "#5. Demonstrate runtime polymorphism with Instrument, Guitar, and Piano:"
      ],
      "metadata": {
        "id": "R8uA9C9t0F9c"
      },
      "execution_count": null,
      "outputs": []
    },
    {
      "cell_type": "code",
      "source": [
        "class Instrument:\n",
        "    def play(self):\n",
        "        print(\"Playing an instrument\")\n",
        "\n",
        "class Guitar(Instrument):\n",
        "    def play(self):\n",
        "        print(\"Playing the guitar\")\n",
        "\n",
        "class Piano(Instrument):\n",
        "    def play(self):\n",
        "        print(\"Playing the piano\")\n"
      ],
      "metadata": {
        "id": "_LYHzn4X0Kwy"
      },
      "execution_count": 26,
      "outputs": []
    },
    {
      "cell_type": "code",
      "source": [
        "#Example\n",
        "instruments = [Guitar(), Piano()]\n",
        "\n",
        "for instrument in instruments:\n",
        "    instrument.play()\n"
      ],
      "metadata": {
        "colab": {
          "base_uri": "https://localhost:8080/"
        },
        "id": "EE42krgK0SnK",
        "outputId": "c58ba16a-8a09-488d-ecaa-60cb1ff760a7"
      },
      "execution_count": 27,
      "outputs": [
        {
          "output_type": "stream",
          "name": "stdout",
          "text": [
            "Playing the guitar\n",
            "Playing the piano\n"
          ]
        }
      ]
    },
    {
      "cell_type": "code",
      "source": [
        "#6. Class MathOperations with add_numbers and subtract_numbers:"
      ],
      "metadata": {
        "id": "tqZUVyy00WUr"
      },
      "execution_count": null,
      "outputs": []
    },
    {
      "cell_type": "code",
      "source": [
        "class MathOperations:\n",
        "    @classmethod\n",
        "    def add_numbers(cls, a, b):\n",
        "        return a + b\n",
        "\n",
        "    @staticmethod\n",
        "    def subtract_numbers(a, b):\n",
        "        return a - b"
      ],
      "metadata": {
        "id": "_xnCuEU10a-V"
      },
      "execution_count": 28,
      "outputs": []
    },
    {
      "cell_type": "code",
      "source": [
        "#Example\n",
        "print(MathOperations.add_numbers(3, 5))\n",
        "print(MathOperations.subtract_numbers(10, 4))"
      ],
      "metadata": {
        "colab": {
          "base_uri": "https://localhost:8080/"
        },
        "id": "vyiemnCB0d5p",
        "outputId": "7ba31074-f36a-4b65-ec70-14fe7f155da9"
      },
      "execution_count": 29,
      "outputs": [
        {
          "output_type": "stream",
          "name": "stdout",
          "text": [
            "8\n",
            "6\n"
          ]
        }
      ]
    },
    {
      "cell_type": "code",
      "source": [
        "#7. Class Person with a method to count total persons:"
      ],
      "metadata": {
        "id": "Jm-0wEmK0hiN"
      },
      "execution_count": null,
      "outputs": []
    },
    {
      "cell_type": "code",
      "source": [
        "class Person:\n",
        "    count = 0\n",
        "\n",
        "    def _init_(self):\n",
        "        Person.count += 1\n",
        "\n",
        "    @classmethod\n",
        "    def total_persons(cls):\n",
        "        return cls.count"
      ],
      "metadata": {
        "id": "U7gtun6D0nK8"
      },
      "execution_count": 30,
      "outputs": []
    },
    {
      "cell_type": "code",
      "source": [
        "#Example\n",
        "p1 = Person()\n",
        "p2 = Person()\n",
        "print(\"Total persons:\", Person.total_persons())"
      ],
      "metadata": {
        "colab": {
          "base_uri": "https://localhost:8080/"
        },
        "id": "7usMZthb0srU",
        "outputId": "d0859b9f-dbd1-401c-ebcd-883a9d7e5549"
      },
      "execution_count": 33,
      "outputs": [
        {
          "output_type": "stream",
          "name": "stdout",
          "text": [
            "Total persons: 0\n"
          ]
        }
      ]
    },
    {
      "cell_type": "code",
      "source": [
        "#8. Class Fraction with overridden _str_ method:"
      ],
      "metadata": {
        "id": "0iXAKZ-j1DTD"
      },
      "execution_count": null,
      "outputs": []
    },
    {
      "cell_type": "code",
      "source": [
        "class Fraction:\n",
        "    def _init_(self, numerator, denominator):\n",
        "        self.numerator = numerator\n",
        "        self.denominator = denominator\n",
        "\n",
        "    def _str_(self):\n",
        "        return f\"{self.numerator}/{self.denominator}\""
      ],
      "metadata": {
        "id": "PcI4ZWqb1Igq"
      },
      "execution_count": 34,
      "outputs": []
    },
    {
      "cell_type": "code",
      "source": [
        "#10. Demonstrate operator overloading with a Vector class:"
      ],
      "metadata": {
        "id": "ehX7RF0l1RcF"
      },
      "execution_count": null,
      "outputs": []
    },
    {
      "cell_type": "code",
      "source": [
        "class Vector:\n",
        "    def _init_(self, x, y):\n",
        "        self.x = x\n",
        "        self.y = y\n",
        "\n",
        "    def _add_(self, other):\n",
        "        return Vector(self.x + other.x, self.y + other.y)\n",
        "\n",
        "    def _str_(self):\n",
        "        return f\"Vector({self.x}, {self.y})\""
      ],
      "metadata": {
        "id": "z7goGC3811Wb"
      },
      "execution_count": 37,
      "outputs": []
    },
    {
      "cell_type": "code",
      "source": [
        "#11. Create a Person class with attributes and a greet method:"
      ],
      "metadata": {
        "id": "Eybxh6Ai2HyB"
      },
      "execution_count": null,
      "outputs": []
    },
    {
      "cell_type": "code",
      "source": [
        "class Person:\n",
        "    def _init_(self, name, age):\n",
        "        self.name = name\n",
        "        self.age = age\n",
        "\n",
        "    def greet(self):\n",
        "        print(f\"Hello, my name is {self.name} and I am {self.age} years old.\")"
      ],
      "metadata": {
        "id": "GrANRZW02Lm9"
      },
      "execution_count": 39,
      "outputs": []
    },
    {
      "cell_type": "code",
      "source": [
        "#12. Implement a Student class with average_grade method:"
      ],
      "metadata": {
        "id": "gcJs09y-2f8p"
      },
      "execution_count": null,
      "outputs": []
    },
    {
      "cell_type": "code",
      "source": [
        "class Student:\n",
        "    def _init_(self, name, grades):\n",
        "        self.name = name\n",
        "        self.grades = grades\n",
        "\n",
        "    def average_grade(self):\n",
        "        return sum(self.grades) / len(self.grades)\n",
        "\n"
      ],
      "metadata": {
        "id": "Nvj_BJPl2jTh"
      },
      "execution_count": 48,
      "outputs": []
    },
    {
      "cell_type": "code",
      "source": [
        "#13. Create a Rectangle class with set_dimensions and area methods:"
      ],
      "metadata": {
        "id": "_tm_ccvy3TeJ"
      },
      "execution_count": null,
      "outputs": []
    },
    {
      "cell_type": "code",
      "source": [
        "class Rectangle:\n",
        "    def _init_(self):\n",
        "        self.length = 0\n",
        "        self.width = 0\n",
        "\n",
        "    def set_dimensions(self, length, width):\n",
        "        self.length = length\n",
        "        self.width = width\n",
        "\n",
        "    def area(self):\n",
        "        return self.length * self.width"
      ],
      "metadata": {
        "id": "N_vE8OoP3Xrk"
      },
      "execution_count": 49,
      "outputs": []
    },
    {
      "cell_type": "code",
      "source": [
        "#Example\n",
        "rect = Rectangle()\n",
        "rect.set_dimensions(5, 3)\n",
        "print(\"Area:\", rect.area())"
      ],
      "metadata": {
        "colab": {
          "base_uri": "https://localhost:8080/"
        },
        "id": "lcGIK7Fb3du9",
        "outputId": "5aa3e421-a032-4d45-e2c0-2664e51f7f27"
      },
      "execution_count": 51,
      "outputs": [
        {
          "output_type": "stream",
          "name": "stdout",
          "text": [
            "Area: 15\n"
          ]
        }
      ]
    },
    {
      "cell_type": "code",
      "source": [
        "#14. Create an Employee class and a derived Manager class:"
      ],
      "metadata": {
        "id": "MjHZOHKI3mkq"
      },
      "execution_count": null,
      "outputs": []
    },
    {
      "cell_type": "code",
      "source": [
        "class Employee:\n",
        "    def _init_(self, hours_worked, hourly_rate):\n",
        "        self.hours_worked = hours_worked\n",
        "        self.hourly_rate = hourly_rate\n",
        "\n",
        "    def calculate_salary(self):\n",
        "        return self.hours_worked * self.hourly_rate\n",
        "\n",
        "class Manager(Employee):\n",
        "    def _init_(self, hours_worked, hourly_rate, bonus):\n",
        "        super()._init_(hours_worked, hourly_rate)\n",
        "        self.bonus = bonus\n",
        "\n",
        "    def calculate_salary(self):\n",
        "        return super().calculate_salary() + self.bonus"
      ],
      "metadata": {
        "id": "vduMGs-z3spi"
      },
      "execution_count": 52,
      "outputs": []
    },
    {
      "cell_type": "code",
      "source": [
        "#15. Create a Product class to calculate the total price:"
      ],
      "metadata": {
        "id": "D0XM5Bin32US"
      },
      "execution_count": null,
      "outputs": []
    },
    {
      "cell_type": "code",
      "source": [
        "class Product:\n",
        "    def _init_(self, name, price, quantity):\n",
        "        self.name = name\n",
        "        self.price = price\n",
        "        self.quantity = quantity\n",
        "\n",
        "    def total_price(self):\n",
        "        return self.price * self.quantity\n"
      ],
      "metadata": {
        "id": "ddgJeQsT39Qi"
      },
      "execution_count": 54,
      "outputs": []
    },
    {
      "cell_type": "code",
      "source": [
        "#16. Create an abstract Animal class with sound method:"
      ],
      "metadata": {
        "id": "EoRj1UJ94GqS"
      },
      "execution_count": null,
      "outputs": []
    },
    {
      "cell_type": "code",
      "source": [
        "from abc import ABC, abstractmethod\n",
        "\n",
        "class Animal(ABC):\n",
        "    @abstractmethod\n",
        "    def sound(self):\n",
        "        pass\n",
        "\n",
        "class Cow(Animal):\n",
        "    def sound(self):\n",
        "        return \"Moo\"\n",
        "\n",
        "class Sheep(Animal):\n",
        "    def sound(self):\n",
        "        return \"Baa\""
      ],
      "metadata": {
        "id": "z7aTKTfc4MFm"
      },
      "execution_count": 57,
      "outputs": []
    },
    {
      "cell_type": "code",
      "source": [
        "#Example\n",
        "cow = Cow()\n",
        "sheep = Sheep()\n",
        "print(cow.sound())\n",
        "print(sheep.sound())"
      ],
      "metadata": {
        "colab": {
          "base_uri": "https://localhost:8080/"
        },
        "id": "V5u7-Z134boW",
        "outputId": "2a5873a2-45d2-45da-8143-6e9713719ca9"
      },
      "execution_count": 58,
      "outputs": [
        {
          "output_type": "stream",
          "name": "stdout",
          "text": [
            "Moo\n",
            "Baa\n"
          ]
        }
      ]
    },
    {
      "cell_type": "code",
      "source": [
        "#17. Create a Book class with attributes and a get_book_info method:\n"
      ],
      "metadata": {
        "id": "OpWWKn6W4kHZ"
      },
      "execution_count": null,
      "outputs": []
    },
    {
      "cell_type": "code",
      "source": [
        "class Book:\n",
        "    def _init_(self, title, author, year_published):\n",
        "        self.title = title\n",
        "        self.author = author\n",
        "        self.year_published = year_published\n",
        "\n",
        "    def get_book_info(self):\n",
        "        return f\"{self.title} by {self.author}, published in {self.year_published}\""
      ],
      "metadata": {
        "id": "xsuFTQxi4tXx"
      },
      "execution_count": 59,
      "outputs": []
    },
    {
      "cell_type": "code",
      "source": [
        "#18. Create a House class and a derived Mansion class:"
      ],
      "metadata": {
        "id": "mg3LpJNj46La"
      },
      "execution_count": null,
      "outputs": []
    },
    {
      "cell_type": "code",
      "source": [
        "class House:\n",
        "    def _init_(self, address, price):\n",
        "        self.address = address\n",
        "        self.price = price\n",
        "\n",
        "class Mansion(House):\n",
        "    def _init_(self, address, price, number_of_rooms):\n",
        "        super()._init_(address, price)\n",
        "        self.number_of_rooms = number_of_rooms"
      ],
      "metadata": {
        "id": "N3FwiIgo4-EN"
      },
      "execution_count": 61,
      "outputs": []
    }
  ]
}